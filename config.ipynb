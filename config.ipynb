{
 "cells": [
  {
   "cell_type": "code",
   "execution_count": 1,
   "metadata": {},
   "outputs": [],
   "source": [
    "consumer_key = \"1clmkHTg23tROrAaS22Hv8cPZ\"\n",
    "consumer_secret = \"STz6Ln4c19BajhHaHnJbdQ9F4rGjXa9OBxgLSNzp9aoLdxl8xC\"\n",
    "access_token = \"971539943590854656-NhDetU1I76Mm6easOqOiUiUW6rC1w9w\"\n",
    "access_token_secret = \" Gli1dWFmzl1kLkNRLUMcDR2rcFaPVAakxrpyjp6q9L1W8\""
   ]
  },
  {
   "cell_type": "code",
   "execution_count": null,
   "metadata": {},
   "outputs": [],
   "source": []
  }
 ],
 "metadata": {
  "kernelspec": {
   "display_name": "Python 3",
   "language": "python",
   "name": "python3"
  },
  "language_info": {
   "codemirror_mode": {
    "name": "ipython",
    "version": 3
   },
   "file_extension": ".py",
   "mimetype": "text/x-python",
   "name": "python",
   "nbconvert_exporter": "python",
   "pygments_lexer": "ipython3",
   "version": "3.6.4"
  }
 },
 "nbformat": 4,
 "nbformat_minor": 2
}
